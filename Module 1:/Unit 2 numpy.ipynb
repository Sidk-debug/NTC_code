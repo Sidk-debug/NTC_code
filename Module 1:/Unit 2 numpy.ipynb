{
 "cells": [
  {
   "cell_type": "code",
   "execution_count": 1,
   "id": "a6e41444",
   "metadata": {},
   "outputs": [],
   "source": [
    "import numpy as np"
   ]
  },
  {
   "cell_type": "code",
   "execution_count": 5,
   "id": "b4ffe840",
   "metadata": {},
   "outputs": [
    {
     "data": {
      "text/plain": [
       "array([[1, 2, 3, 4],\n",
       "       [5, 6, 7, 8]])"
      ]
     },
     "execution_count": 5,
     "metadata": {},
     "output_type": "execute_result"
    }
   ],
   "source": [
    "#create simple array from the list \n",
    "arr = np.array([[1,2,3,4],[5,6,7,8]])\n",
    "arr\n"
   ]
  },
  {
   "cell_type": "code",
   "execution_count": 7,
   "id": "31c71be6",
   "metadata": {},
   "outputs": [
    {
     "name": "stdout",
     "output_type": "stream",
     "text": [
      "2\n"
     ]
    }
   ],
   "source": [
    "#dinension of the array\n",
    "print(arr.ndim)"
   ]
  },
  {
   "cell_type": "code",
   "execution_count": 8,
   "id": "7ebb4286",
   "metadata": {},
   "outputs": [
    {
     "name": "stdout",
     "output_type": "stream",
     "text": [
      "(2, 4)\n"
     ]
    }
   ],
   "source": [
    "#shape of the array \n",
    "\n",
    "print(arr.shape)"
   ]
  },
  {
   "cell_type": "code",
   "execution_count": 9,
   "id": "5060295a",
   "metadata": {},
   "outputs": [
    {
     "name": "stdout",
     "output_type": "stream",
     "text": [
      "<class 'numpy.ndarray'>\n"
     ]
    }
   ],
   "source": [
    "#diamension of the array\n",
    "\n",
    "print(type(arr))"
   ]
  },
  {
   "cell_type": "code",
   "execution_count": 10,
   "id": "ca70dac1",
   "metadata": {},
   "outputs": [
    {
     "name": "stdout",
     "output_type": "stream",
     "text": [
      "<memory at 0x00000205E9B44E10>\n"
     ]
    }
   ],
   "source": [
    "print(arr.data)"
   ]
  },
  {
   "cell_type": "markdown",
   "id": "56edef33",
   "metadata": {},
   "source": [
    "# Random Number Generatoer using numpy"
   ]
  },
  {
   "cell_type": "code",
   "execution_count": 11,
   "id": "b9146ed8",
   "metadata": {},
   "outputs": [
    {
     "name": "stdout",
     "output_type": "stream",
     "text": [
      "40\n"
     ]
    }
   ],
   "source": [
    "from numpy import random\n",
    "x= random.randint(100)\n",
    "print(x)"
   ]
  },
  {
   "cell_type": "code",
   "execution_count": 12,
   "id": "5d16009c",
   "metadata": {},
   "outputs": [
    {
     "name": "stdout",
     "output_type": "stream",
     "text": [
      "0.590262881195591\n"
     ]
    }
   ],
   "source": [
    "#generate Random float\n",
    "\n",
    "x=random.rand()\n",
    "print(x)"
   ]
  },
  {
   "cell_type": "code",
   "execution_count": 15,
   "id": "46ce5569",
   "metadata": {},
   "outputs": [
    {
     "name": "stdout",
     "output_type": "stream",
     "text": [
      "24\n"
     ]
    }
   ],
   "source": [
    "from numpy import random \n",
    "x=random.randint(50)\n",
    "print(x)"
   ]
  },
  {
   "cell_type": "code",
   "execution_count": 20,
   "id": "106c1633",
   "metadata": {},
   "outputs": [
    {
     "name": "stdout",
     "output_type": "stream",
     "text": [
      "[0.23954923 0.82523837 0.54085846 0.57200373 0.58020703 0.16715895\n",
      " 0.26187172 0.3181075  0.15720022 0.58655944]\n"
     ]
    }
   ],
   "source": [
    "#generate value unser the range\n",
    "from numpy import random \n",
    "x=random.rand(10)\n",
    "print(x)"
   ]
  },
  {
   "cell_type": "code",
   "execution_count": 21,
   "id": "8cfe707e",
   "metadata": {},
   "outputs": [
    {
     "name": "stdout",
     "output_type": "stream",
     "text": [
      "0.043430474006979636\n"
     ]
    }
   ],
   "source": [
    "from numpy import random \n",
    "x=random.rand()\n",
    "print(x)\n"
   ]
  },
  {
   "cell_type": "code",
   "execution_count": 22,
   "id": "0e946e41",
   "metadata": {},
   "outputs": [
    {
     "name": "stdout",
     "output_type": "stream",
     "text": [
      "[68 82 40 67 46]\n"
     ]
    }
   ],
   "source": [
    "#3. Generate Random array\n",
    " \n",
    "from numpy import random\n",
    "\n",
    "x= random.randint(100, size=(5))\n",
    "\n",
    "print(x)\n",
    "    "
   ]
  },
  {
   "cell_type": "code",
   "execution_count": 23,
   "id": "20192686",
   "metadata": {},
   "outputs": [
    {
     "name": "stdout",
     "output_type": "stream",
     "text": [
      "[[33  2 40 99 10]\n",
      " [84 35 39 18 63]\n",
      " [55 44 79 10 42]]\n"
     ]
    }
   ],
   "source": [
    "#3. Generate a 2-D array with 3 rows, each row containing 5 random integer\n",
    " \n",
    "from numpy import random\n",
    "\n",
    "x= random.randint(100, size=(3,5))\n",
    "\n",
    "print(x)\n",
    "    "
   ]
  },
  {
   "cell_type": "markdown",
   "id": "6032b8cf",
   "metadata": {},
   "source": [
    "# 2.4 Practical: creating Scalar in Numpy"
   ]
  },
  {
   "cell_type": "code",
   "execution_count": 25,
   "id": "6324c5cf",
   "metadata": {},
   "outputs": [
    {
     "data": {
      "text/plain": [
       "array([1, 2, 3, 4, 5, 6, 7, 8])"
      ]
     },
     "execution_count": 25,
     "metadata": {},
     "output_type": "execute_result"
    }
   ],
   "source": [
    "#create simple array from the list \n",
    "arr = np.array([1,2,3,4,5,6,7,8])\n",
    "arr\n"
   ]
  },
  {
   "cell_type": "code",
   "execution_count": 27,
   "id": "267715e0",
   "metadata": {},
   "outputs": [
    {
     "data": {
      "text/plain": [
       "1"
      ]
     },
     "execution_count": 27,
     "metadata": {},
     "output_type": "execute_result"
    }
   ],
   "source": [
    "np.amin(arr)"
   ]
  },
  {
   "cell_type": "code",
   "execution_count": 28,
   "id": "bc424d36",
   "metadata": {},
   "outputs": [
    {
     "data": {
      "text/plain": [
       "8"
      ]
     },
     "execution_count": 28,
     "metadata": {},
     "output_type": "execute_result"
    }
   ],
   "source": [
    "np.amax(arr)"
   ]
  },
  {
   "cell_type": "code",
   "execution_count": 30,
   "id": "4ef0cd51",
   "metadata": {},
   "outputs": [
    {
     "data": {
      "text/plain": [
       "4.5"
      ]
     },
     "execution_count": 30,
     "metadata": {},
     "output_type": "execute_result"
    }
   ],
   "source": [
    "np.mean(arr)"
   ]
  },
  {
   "cell_type": "code",
   "execution_count": 31,
   "id": "15ab89c8",
   "metadata": {},
   "outputs": [
    {
     "data": {
      "text/plain": [
       "4.5"
      ]
     },
     "execution_count": 31,
     "metadata": {},
     "output_type": "execute_result"
    }
   ],
   "source": [
    "np.median(arr)"
   ]
  },
  {
   "cell_type": "code",
   "execution_count": 32,
   "id": "87206597",
   "metadata": {},
   "outputs": [
    {
     "data": {
      "text/plain": [
       "7"
      ]
     },
     "execution_count": 32,
     "metadata": {},
     "output_type": "execute_result"
    }
   ],
   "source": [
    "np.ptp(arr)"
   ]
  },
  {
   "cell_type": "code",
   "execution_count": 33,
   "id": "0225c5da",
   "metadata": {},
   "outputs": [
    {
     "data": {
      "text/plain": [
       "2.29128784747792"
      ]
     },
     "execution_count": 33,
     "metadata": {},
     "output_type": "execute_result"
    }
   ],
   "source": [
    "np.std(arr)"
   ]
  },
  {
   "cell_type": "code",
   "execution_count": 34,
   "id": "507b9922",
   "metadata": {},
   "outputs": [
    {
     "data": {
      "text/plain": [
       "5.25"
      ]
     },
     "execution_count": 34,
     "metadata": {},
     "output_type": "execute_result"
    }
   ],
   "source": [
    "np.var(arr)"
   ]
  },
  {
   "cell_type": "code",
   "execution_count": 35,
   "id": "912684d9",
   "metadata": {},
   "outputs": [
    {
     "data": {
      "text/plain": [
       "4.5"
      ]
     },
     "execution_count": 35,
     "metadata": {},
     "output_type": "execute_result"
    }
   ],
   "source": [
    "np.average(arr)"
   ]
  },
  {
   "cell_type": "code",
   "execution_count": 36,
   "id": "34f62578",
   "metadata": {},
   "outputs": [],
   "source": [
    "#create 1-D List\n",
    "\n",
    "list1=[1,2,3]"
   ]
  },
  {
   "cell_type": "code",
   "execution_count": 37,
   "id": "2953f715",
   "metadata": {},
   "outputs": [],
   "source": [
    "#create 1-D  vertical List\n",
    "list2=[[10],\n",
    "      [20],\n",
    "      [30]]"
   ]
  },
  {
   "cell_type": "code",
   "execution_count": 39,
   "id": "5cc6edc9",
   "metadata": {},
   "outputs": [
    {
     "name": "stdout",
     "output_type": "stream",
     "text": [
      "Horizontal Vector\n",
      "[1 2 3]\n",
      "Vertical Vector\n",
      "[[10]\n",
      " [20]\n",
      " [30]]\n"
     ]
    }
   ],
   "source": [
    "#create 1-D List\n",
    "\n",
    "list1=[1,2,3]\n",
    "#create 1-D  vertical List\n",
    "list2=[[10],\n",
    "      [20],\n",
    "      [30]]\n",
    "\n",
    "#create vector\n",
    "\n",
    "vector1 =np.array(list1)\n",
    "vector2= np.array(list2)\n",
    "\n",
    "print(\"Horizontal Vector\")\n",
    "print(vector1)\n",
    "\n",
    "print(\"Vertical Vector\")\n",
    "print(vector2)"
   ]
  },
  {
   "cell_type": "markdown",
   "id": "3c9c5346",
   "metadata": {},
   "source": [
    "# 2.6 Practical Creating Matrix in Numpy"
   ]
  },
  {
   "cell_type": "code",
   "execution_count": 42,
   "id": "fff5b2d5",
   "metadata": {},
   "outputs": [
    {
     "name": "stdout",
     "output_type": "stream",
     "text": [
      "via stirng input :\n",
      " [[1 2]\n",
      " [3 4]] \n",
      "\n",
      "\n",
      "via array -like input:\n",
      " [[list([5, 6, 7]) list([1, 2])]]\n"
     ]
    }
   ],
   "source": [
    "a=np.matrix('1 2; 3 4')\n",
    "print(\"via stirng input :\\n\", a, \"\\n\\n\")\n",
    "\n",
    "b=np.matrix([[5,6,7],[1,2,]])\n",
    "print(\"via array -like input:\\n\",b)"
   ]
  },
  {
   "cell_type": "code",
   "execution_count": 46,
   "id": "f4602851",
   "metadata": {},
   "outputs": [
    {
     "data": {
      "text/plain": [
       "array([[1, 4, 7],\n",
       "       [2, 5, 8],\n",
       "       [3, 6, 9]])"
      ]
     },
     "execution_count": 46,
     "metadata": {},
     "output_type": "execute_result"
    }
   ],
   "source": [
    "A = ([1,2,3],[4,5,6],[7,8,9])\n",
    "np.transpose(A)\n",
    "\n"
   ]
  },
  {
   "cell_type": "code",
   "execution_count": 11,
   "id": "1654e85a",
   "metadata": {},
   "outputs": [
    {
     "name": "stdout",
     "output_type": "stream",
     "text": [
      "60.0 \n",
      "\n",
      "70.5 \n",
      "\n",
      "10.5\n"
     ]
    }
   ],
   "source": [
    "import numpy as np\n",
    "data = [23, 54, 66, 85, 92, 69, 54, 32, 96, 10, 98, 76, 90, 36, 65, 24, 98, 18, 20, 90]\n",
    "\n",
    "\n",
    "Q1 = np.median(data[:10])\n",
    "print(Q1, '\\n')\n",
    "\n",
    "Q3 = np.median(data[10:])\n",
    "print(Q3, '\\n')\n",
    "\n",
    "IQR = Q3 - Q1\n",
    "print(IQR)\n",
    "\n"
   ]
  },
  {
   "cell_type": "markdown",
   "id": "4d28b8b0",
   "metadata": {},
   "source": [
    "# 2.10 PRATICAL: Array Broadingcasting in Numpy"
   ]
  },
  {
   "cell_type": "code",
   "execution_count": 12,
   "id": "07a49d2b",
   "metadata": {},
   "outputs": [
    {
     "data": {
      "text/plain": [
       "array([ 2., 40.,  6.])"
      ]
     },
     "execution_count": 12,
     "metadata": {},
     "output_type": "execute_result"
    }
   ],
   "source": [
    "a = np.array([1.0, 20., 3.0])\n",
    "b = np.array([2.0, 2.0, 2.0])\n",
    "\n",
    "a * b"
   ]
  },
  {
   "cell_type": "code",
   "execution_count": 13,
   "id": "4511c54e",
   "metadata": {},
   "outputs": [
    {
     "data": {
      "text/plain": [
       "array([2., 4., 6.])"
      ]
     },
     "execution_count": 13,
     "metadata": {},
     "output_type": "execute_result"
    }
   ],
   "source": [
    "a = np.array([1.0, 2.0, 3.0])\n",
    "b = 2.0\n",
    "\n",
    "a * b"
   ]
  },
  {
   "cell_type": "markdown",
   "id": "82bca461",
   "metadata": {},
   "source": [
    "# Calculate BMI of cricket players"
   ]
  },
  {
   "cell_type": "code",
   "execution_count": 7,
   "id": "d559c6ae",
   "metadata": {},
   "outputs": [
    {
     "data": {
      "text/plain": [
       "array([1.4945, 1.617 , 1.764 , 1.6905, 2.156 , 2.401 , 1.1025, 1.617 ,\n",
       "       1.519 , 1.8865, 1.911 ])"
      ]
     },
     "execution_count": 7,
     "metadata": {},
     "output_type": "execute_result"
    }
   ],
   "source": [
    "#height of players\n",
    "import numpy as np\n",
    "hg_in = [61 ,66, 72, 69, 88, 98, 45, 66, 62, 77, 78]\n",
    "\n",
    "#convert into numpy array\n",
    "\n",
    "ht_np = np.array(hg_in)\n",
    "\n",
    "#convert height from inch to meter by exposing it to 0.0245\n",
    "ht_np = ht_np * 0.0245\n",
    "\n",
    "ht_np"
   ]
  },
  {
   "cell_type": "code",
   "execution_count": 8,
   "id": "cd6afb69",
   "metadata": {},
   "outputs": [
    {
     "data": {
      "text/plain": [
       "array([31.5 , 36.  , 40.5 , 44.55, 34.2 , 38.7 , 30.15, 35.1 , 40.05,\n",
       "       39.6 , 43.65])"
      ]
     },
     "execution_count": 8,
     "metadata": {},
     "output_type": "execute_result"
    }
   ],
   "source": [
    "#weight of players in pound\n",
    "\n",
    "wt_pd = [70, 80, 90, 99, 76, 86, 67, 78, 89, 88, 97,]\n",
    "\n",
    "#convert into array\n",
    "wt_np = np.array(wt_pd)\n",
    "\n",
    "#convert height from pound to kg by exposing it to 0.45\n",
    "wt_np = wt_np*0.45\n",
    "\n",
    "wt_np"
   ]
  },
  {
   "cell_type": "code",
   "execution_count": 9,
   "id": "c7fae6d4",
   "metadata": {},
   "outputs": [
    {
     "data": {
      "text/plain": [
       "array([14.10323411, 13.76836786, 13.01541025, 15.58896773,  7.35747158,\n",
       "        6.71315454, 24.80447961, 13.42415867, 17.35749196, 11.12708913,\n",
       "       11.95261343])"
      ]
     },
     "execution_count": 9,
     "metadata": {},
     "output_type": "execute_result"
    }
   ],
   "source": [
    "#BMI calculation \n",
    "\n",
    "BMI = wt_np/(ht_np**2)\n",
    "BMI"
   ]
  },
  {
   "cell_type": "code",
   "execution_count": 10,
   "id": "d374d831",
   "metadata": {},
   "outputs": [
    {
     "data": {
      "text/plain": [
       "11.952613432765933"
      ]
     },
     "execution_count": 10,
     "metadata": {},
     "output_type": "execute_result"
    }
   ],
   "source": [
    "BMI[-1]"
   ]
  },
  {
   "cell_type": "code",
   "execution_count": 11,
   "id": "03b8ad00",
   "metadata": {},
   "outputs": [
    {
     "data": {
      "text/plain": [
       "array([], dtype=float64)"
      ]
     },
     "execution_count": 11,
     "metadata": {},
     "output_type": "execute_result"
    }
   ],
   "source": [
    "BMI[BMI<2]"
   ]
  },
  {
   "cell_type": "code",
   "execution_count": 17,
   "id": "aea228ef",
   "metadata": {},
   "outputs": [
    {
     "data": {
      "text/plain": [
       "array([14.10323411, 13.76836786, 13.01541025, 15.58896773,  7.35747158])"
      ]
     },
     "execution_count": 17,
     "metadata": {},
     "output_type": "execute_result"
    }
   ],
   "source": [
    "BMI[:5]"
   ]
  },
  {
   "cell_type": "code",
   "execution_count": 14,
   "id": "257846e3",
   "metadata": {},
   "outputs": [
    {
     "data": {
      "text/plain": [
       "array([[31.5   , 36.    , 40.5   , 44.55  , 34.2   , 38.7   , 30.15  ,\n",
       "        35.1   , 40.05  , 39.6   , 43.65  ],\n",
       "       [ 1.4945,  1.617 ,  1.764 ,  1.6905,  2.156 ,  2.401 ,  1.1025,\n",
       "         1.617 ,  1.519 ,  1.8865,  1.911 ]])"
      ]
     },
     "execution_count": 14,
     "metadata": {},
     "output_type": "execute_result"
    }
   ],
   "source": [
    "players = np.array([wt_np,ht_np])\n",
    "players"
   ]
  },
  {
   "cell_type": "code",
   "execution_count": 15,
   "id": "e424da72",
   "metadata": {},
   "outputs": [
    {
     "data": {
      "text/plain": [
       "40.5"
      ]
     },
     "execution_count": 15,
     "metadata": {},
     "output_type": "execute_result"
    }
   ],
   "source": [
    "players[0][2]\n"
   ]
  },
  {
   "cell_type": "code",
   "execution_count": 19,
   "id": "2fed0253",
   "metadata": {},
   "outputs": [
    {
     "data": {
      "text/plain": [
       "1.764"
      ]
     },
     "execution_count": 19,
     "metadata": {},
     "output_type": "execute_result"
    }
   ],
   "source": [
    "players[1][2]\n"
   ]
  },
  {
   "cell_type": "code",
   "execution_count": 20,
   "id": "0aa48b15",
   "metadata": {},
   "outputs": [
    {
     "data": {
      "text/plain": [
       "array([1.4945, 1.617 , 1.764 , 1.6905, 2.156 , 2.401 , 1.1025, 1.617 ,\n",
       "       1.519 , 1.8865, 1.911 ])"
      ]
     },
     "execution_count": 20,
     "metadata": {},
     "output_type": "execute_result"
    }
   ],
   "source": [
    "players[1]"
   ]
  },
  {
   "cell_type": "code",
   "execution_count": 23,
   "id": "870bb721",
   "metadata": {},
   "outputs": [
    {
     "data": {
      "text/plain": [
       "(11, 2)"
      ]
     },
     "execution_count": 23,
     "metadata": {},
     "output_type": "execute_result"
    }
   ],
   "source": [
    "#Transpose \n",
    "\n",
    "pT = players.transpose()\n",
    "pT.shape"
   ]
  },
  {
   "cell_type": "code",
   "execution_count": 24,
   "id": "7774a246",
   "metadata": {},
   "outputs": [
    {
     "data": {
      "text/plain": [
       "array([[31.5   ,  1.4945],\n",
       "       [36.    ,  1.617 ],\n",
       "       [40.5   ,  1.764 ],\n",
       "       [44.55  ,  1.6905],\n",
       "       [34.2   ,  2.156 ],\n",
       "       [38.7   ,  2.401 ],\n",
       "       [30.15  ,  1.1025],\n",
       "       [35.1   ,  1.617 ],\n",
       "       [40.05  ,  1.519 ],\n",
       "       [39.6   ,  1.8865],\n",
       "       [43.65  ,  1.911 ]])"
      ]
     },
     "execution_count": 24,
     "metadata": {},
     "output_type": "execute_result"
    }
   ],
   "source": [
    "pT = players.transpose()\n",
    "pT"
   ]
  },
  {
   "cell_type": "code",
   "execution_count": 30,
   "id": "2441d510",
   "metadata": {},
   "outputs": [
    {
     "name": "stdout",
     "output_type": "stream",
     "text": [
      "37.63636363636364\n",
      "38.7\n",
      "414.00000000000006\n",
      "4.44762913906698\n",
      "[[1.        0.4052948]\n",
      " [0.4052948 1.       ]]\n"
     ]
    }
   ],
   "source": [
    "#statistical and mathematical function on players data\n",
    "\n",
    "print(np.mean(wt_np))\n",
    "\n",
    "print(np.median(wt_np))\n",
    "\n",
    "print(np.sum(wt_np))\n",
    "\n",
    "#standard deviation\n",
    "print(np.std(wt_np))\n",
    "\n",
    "#correlation coefficient\n",
    "print(np.corrcoef(wt_np,ht_np))\n"
   ]
  },
  {
   "cell_type": "code",
   "execution_count": null,
   "id": "0a4570d1",
   "metadata": {},
   "outputs": [],
   "source": []
  }
 ],
 "metadata": {
  "kernelspec": {
   "display_name": "Python 3 (ipykernel)",
   "language": "python",
   "name": "python3"
  },
  "language_info": {
   "codemirror_mode": {
    "name": "ipython",
    "version": 3
   },
   "file_extension": ".py",
   "mimetype": "text/x-python",
   "name": "python",
   "nbconvert_exporter": "python",
   "pygments_lexer": "ipython3",
   "version": "3.9.12"
  }
 },
 "nbformat": 4,
 "nbformat_minor": 5
}
